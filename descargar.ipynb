{
  "cells": [
    {
      "cell_type": "markdown",
      "metadata": {
        "id": "view-in-github",
        "colab_type": "text"
      },
      "source": [
        "<a href=\"https://colab.research.google.com/github/nefux/Colab-cosas/blob/main/descargar.ipynb\" target=\"_parent\"><img src=\"https://colab.research.google.com/assets/colab-badge.svg\" alt=\"Open In Colab\"/></a>"
      ]
    },
    {
      "cell_type": "code",
      "source": [
        "#@markdown <h3>Drive\n",
        "\n",
        "from google.colab import drive\n",
        "drive.mount('/content/drive')"
      ],
      "metadata": {
        "cellView": "form",
        "id": "3wV_6Be7y6HZ"
      },
      "execution_count": null,
      "outputs": []
    },
    {
      "cell_type": "code",
      "execution_count": null,
      "metadata": {
        "cellView": "form",
        "id": "zdF85bq14fLF"
      },
      "outputs": [],
      "source": [
        "#@markdown <h3>Agrega tu link\n",
        "ruta = \"drive\" # @param [\"drive\", \"colab\"]\n",
        "file_url = \"\" #@param {type:\"string\"}\n",
        "import requests\n",
        "from tqdm import tqdm\n",
        "from urllib.parse import urlparse\n",
        "\n",
        "# Realizar la solicitud GET al archivo\n",
        "response = requests.get(file_url, stream=True)\n",
        "total_size = int(response.headers.get('cont ent-length', 0))\n",
        "\n",
        "# Obtenerel nombre del archivo del enlace\n",
        "parsed_url = urlparse (file_url)\n",
        "filename = parsed_url.path.split(\"/\")[-1]\n",
        "\n",
        "# Ruta donde se guardará el archivo descargado\n",
        "drive = \"/content/drive/My Drive/\"\n",
        "colab = \"/content/\"\n",
        "if ruta == \"drive\":\n",
        "    output_path = drive + filename\n",
        "elif ruta == \"colab\":\n",
        "    output_path = colab + filename\n",
        "\n",
        "# Descargar el archivo y mostrar la barra de progreso\n",
        "with open(output_path, \"wb\") as file, tqdm(\n",
        "    desc=\"Descargando\",\n",
        "    total=total_size,\n",
        "    unit=\"B\",\n",
        "    unit_scale=True,\n",
        "    unit_divisor=1024,\n",
        ") as progress_bar:\n",
        "    for data in response.iter_content(chunk_size=1024):\n",
        "        file.write(data)\n",
        "        progress_bar.update(len(data))\n",
        "\n",
        "print(\"Descarga completa.\")\n"
      ]
    },
    {
      "cell_type": "markdown",
      "source": [
        "------------------------------------------------------------------------"
      ],
      "metadata": {
        "id": "8195fA8yTSXt"
      }
    },
    {
      "cell_type": "code",
      "execution_count": null,
      "metadata": {
        "id": "iku34heIOzCE",
        "cellView": "form"
      },
      "outputs": [],
      "source": [
        "#@markdown <h3>Iniciar sesión en mega\n",
        "!pip install mega.py\n",
        "from mega import Mega\n",
        "username = \"\" #@param {type:\"string\"}\n",
        "password = \"\" #@param {type:\"string\"}\n",
        "mega = Mega()\n",
        "m = mega.login(username, password)\n",
        "print(\"Inicio de sesión exitoso. Tu cuota es: \", quota)\n"
      ]
    },
    {
      "cell_type": "code",
      "execution_count": null,
      "metadata": {
        "cellView": "form",
        "id": "dvzSbVO0PuYg"
      },
      "outputs": [],
      "source": [
        "#@markdown <h3>Enviar archivo a mega\n",
        "archivo = \"\" #@param {type:\"string\"}\n",
        "file = m.upload('/content/drive/My Drive/' + archivo)"
      ]
    },
    {
      "cell_type": "markdown",
      "source": [
        "--------------------------------------------------------------------------"
      ],
      "metadata": {
        "id": "z_nsBhQTTZgr"
      }
    },
    {
      "cell_type": "code",
      "execution_count": null,
      "metadata": {
        "colab": {
          "background_save": true
        },
        "id": "6O4TPo0Yv30b",
        "cellView": "form"
      },
      "outputs": [],
      "source": [
        "#@markdown <h3>Pasar de mp4 a mp3\n",
        "!pip install moviepy\n",
        "from moviepy.editor import *\n",
        "video = VideoFileClip(\"\")\n",
        "video.audio.write_audiofile(\"/content/drive/My Drive/illegal.mp3\")"
      ]
    }
  ],
  "metadata": {
    "colab": {
      "provenance": [],
      "mount_file_id": "1chq-sorkE-YbOoIpNbu5yVEpsTkE5hFW",
      "authorship_tag": "ABX9TyMXqTEV2CIUYbfvbhOgU0Ya",
      "include_colab_link": true
    },
    "kernelspec": {
      "display_name": "Python 3",
      "name": "python3"
    },
    "language_info": {
      "name": "python"
    }
  },
  "nbformat": 4,
  "nbformat_minor": 0
}